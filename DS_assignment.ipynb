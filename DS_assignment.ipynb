{
 "cells": [
  {
   "cell_type": "markdown",
   "id": "1cb5b811",
   "metadata": {},
   "source": [
    "My Jupyter Notebook on IBM Watson Studio"
   ]
  },
  {
   "cell_type": "markdown",
   "id": "4d8d2582",
   "metadata": {},
   "source": [
    "**Wei Wang**"
   ]
  },
  {
   "cell_type": "markdown",
   "id": "fca97311",
   "metadata": {},
   "source": [
    "*I am interested in data science because it benefits building my own data processing framework* "
   ]
  },
  {
   "cell_type": "markdown",
   "id": "6b215d17",
   "metadata": {},
   "source": [
    "### The following code returns summation of two numbers"
   ]
  },
  {
   "cell_type": "code",
   "execution_count": 3,
   "id": "b21d8f5c",
   "metadata": {},
   "outputs": [
    {
     "data": {
      "text/plain": [
       "30"
      ]
     },
     "execution_count": 3,
     "metadata": {},
     "output_type": "execute_result"
    }
   ],
   "source": [
    "def add(a,b):\n",
    "    return(a+b)\n",
    "\n",
    "add(10,20)"
   ]
  },
  {
   "cell_type": "markdown",
   "id": "807fe113",
   "metadata": {},
   "source": [
    "***\n",
    "\n",
    "Data Science Rocks!\n",
    "\n",
    "***\n",
    "\n",
    "`Data Science Rocks!`\n",
    "\n",
    "\n",
    "* Data Science Rocks\n",
    "* Data Science Rocks\n",
    "* Data Science Rocks\n"
   ]
  },
  {
   "cell_type": "code",
   "execution_count": null,
   "id": "73be6b50",
   "metadata": {},
   "outputs": [],
   "source": []
  }
 ],
 "metadata": {
  "kernelspec": {
   "display_name": "Python 3 (ipykernel)",
   "language": "python",
   "name": "python3"
  },
  "language_info": {
   "codemirror_mode": {
    "name": "ipython",
    "version": 3
   },
   "file_extension": ".py",
   "mimetype": "text/x-python",
   "name": "python",
   "nbconvert_exporter": "python",
   "pygments_lexer": "ipython3",
   "version": "3.9.12"
  }
 },
 "nbformat": 4,
 "nbformat_minor": 5
}
